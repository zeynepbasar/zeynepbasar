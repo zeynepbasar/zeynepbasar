{
 "cells": [
  {
   "cell_type": "markdown",
   "metadata": {},
   "source": [
    "<center>\n",
    "    <img src=\"https://cf-courses-data.s3.us.cloud-object-storage.appdomain.cloud/IBMDeveloperSkillsNetwork-DS0105EN-SkillsNetwork/labs/Module2/images/SN_web_lightmode.png\" width=\"300\" alt=\"cognitiveclass.ai logo\">\n",
    "</center>\n"
   ]
  },
  {
   "cell_type": "markdown",
   "metadata": {},
   "source": [
    "# Notebook Name: Peer Assignment 1\n",
    "\n",
    "#Exercise 2 - Create a markdown cell with the title of the notebook. (1 pt)"
   ]
  },
  {
   "cell_type": "markdown",
   "metadata": {},
   "source": [
    "#Exercise 3 - Create a markdown cell for an introduction. (1 pt)\n",
    "\n",
    "This notebook is related with data science tools and ecosystems. "
   ]
  },
  {
   "cell_type": "markdown",
   "metadata": {},
   "source": [
    "#Exercise 4 - Create a markdown cell to list data science languages. (3 pts)\n",
    "\n",
    "Data Science Languages: R, Python, Julia, SQL, JavaScript, C++, etc."
   ]
  },
  {
   "cell_type": "markdown",
   "metadata": {},
   "source": [
    "#Exercise 5 - Create a markdown cell to list data science libraries. (3 pts)\n",
    "\n",
    "Libraries mostly used in data science: Numpy, Pandas, Matplotlib, Scipy, etc."
   ]
  },
  {
   "cell_type": "markdown",
   "metadata": {},
   "source": [
    "#Exercise 6 - Create a markdown cell with a table of Data Science tools. (3 pts)\n",
    "\n",
    "| Data Science Tools |\n",
    "| :----------------: |\n",
    "|    Apache Spark    |\n",
    "|  Jupyter Notebook  |\n",
    "|       Keras        |"
   ]
  },
  {
   "cell_type": "markdown",
   "metadata": {},
   "source": [
    "#Exercise 7 - Create a markdown cell introducing arithmetic expression examples. (1 pt)\n",
    "\n",
    "### Below are a few examples of evaluating arithmetic expressions in Python:"
   ]
  },
  {
   "cell_type": "code",
   "execution_count": 5,
   "metadata": {},
   "outputs": [
    {
     "data": {
      "text/plain": [
       "17"
      ]
     },
     "execution_count": 5,
     "metadata": {},
     "output_type": "execute_result"
    }
   ],
   "source": [
    "#Exercise 8 - Create a code cell to multiply and add numbers. (2 pts)\n",
    "# The example is a simple arithmetic expression to multiply then add integers:\n",
    "5*2+7"
   ]
  },
  {
   "cell_type": "code",
   "execution_count": 6,
   "metadata": {},
   "outputs": [
    {
     "name": "stdout",
     "output_type": "stream",
     "text": [
      "300 minutes is 5.0 hours.\n"
     ]
    }
   ],
   "source": [
    "#Exercise 9 - Create a code cell to convert minutes to hours. (2 pts)\n",
    "# 1 hour= 60 minutes\n",
    "# This example will convert 300 minutes to hours by diving by 60\n",
    "minute=300\n",
    "hour= 300/60\n",
    "print(f\"300 minutes is {hour} hours.\")"
   ]
  },
  {
   "cell_type": "markdown",
   "metadata": {},
   "source": [
    "#Exercise 10 -Insert a markdown cell to list Objectives. (3 pts)\n",
    "\n",
    "**Objectives:** Data Science Languages, Data Science Libraries, Data Science Tools\n"
   ]
  },
  {
   "cell_type": "markdown",
   "metadata": {},
   "source": [
    "#Exercise 11 - Create a markdown cell to indicate the Author’s name. (2 pts)\n",
    "\n",
    "## Author: Z.B."
   ]
  }
 ],
 "metadata": {
  "kernelspec": {
   "display_name": "Python 3 (ipykernel)",
   "language": "python",
   "name": "python3"
  },
  "language_info": {
   "codemirror_mode": {
    "name": "ipython",
    "version": 3
   },
   "file_extension": ".py",
   "mimetype": "text/x-python",
   "name": "python",
   "nbconvert_exporter": "python",
   "pygments_lexer": "ipython3",
   "version": "3.11.9"
  }
 },
 "nbformat": 4,
 "nbformat_minor": 4
}
